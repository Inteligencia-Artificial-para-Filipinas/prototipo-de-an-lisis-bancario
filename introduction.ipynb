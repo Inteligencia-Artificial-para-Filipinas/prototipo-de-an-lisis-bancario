{
 "cells": [
  {
   "cell_type": "markdown",
   "id": "4fd019f8-d603-4653-a35d-9365b688b50b",
   "metadata": {},
   "source": [
    "# Philippines' pre-owned cars project"
   ]
  },
  {
   "cell_type": "markdown",
   "id": "cc7b1e75-131f-4ffe-8dad-2cc2686a5092",
   "metadata": {},
   "source": [
    "Aim of this project is to gather pre-owned cars in the Philippines, create an analysis for the data and create a regression model to predict car prices.\n",
    "\n",
    "### Goal of the project\n",
    "1. Dataset\n",
    "2. Data analysis\n",
    "3. Regression model\n",
    "4. Rest API endpoint\n",
    "5. RAG LLM chat app (chat with the data)"
   ]
  },
  {
   "cell_type": "markdown",
   "id": "85d58400-6d56-4cc5-be1b-28f7472810c1",
   "metadata": {},
   "source": [
    "## Data Gathering\n",
    "Crawling data from different sources, data from different sources is saved in its raw form in csv, \n",
    "later down the pipeline this will be normalized on identified relevant features\n",
    "\n",
    "Project's data sources\n",
    "\n",
    "1. Banco de Oro\n",
    "2. PS Bank"
   ]
  },
  {
   "cell_type": "markdown",
   "id": "f7b91229-8f81-4cf1-a3e9-a3ceabb6309d",
   "metadata": {},
   "source": [
    "## Data Validation"
   ]
  }
 ],
 "metadata": {
  "kernelspec": {
   "display_name": "Python 3 (ipykernel)",
   "language": "python",
   "name": "python3"
  },
  "language_info": {
   "codemirror_mode": {
    "name": "ipython",
    "version": 3
   },
   "file_extension": ".py",
   "mimetype": "text/x-python",
   "name": "python",
   "nbconvert_exporter": "python",
   "pygments_lexer": "ipython3",
   "version": "3.10.0"
  }
 },
 "nbformat": 4,
 "nbformat_minor": 5
}
