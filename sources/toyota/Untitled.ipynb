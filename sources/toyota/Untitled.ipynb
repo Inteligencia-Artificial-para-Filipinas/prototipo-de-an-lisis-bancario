{
 "cells": [
  {
   "cell_type": "code",
   "execution_count": 4,
   "id": "5b6225de-e20b-451c-9b7c-2db9ee98fddd",
   "metadata": {},
   "outputs": [
    {
     "name": "stdout",
     "output_type": "stream",
     "text": [
      "Done writing csv...\n"
     ]
    }
   ],
   "source": [
    "import tabula\n",
    "\n",
    "tabula.convert_into(\"toyota-cars.pdf\", \"toyota-cars.csv\", output_format=\"csv\", pages='all')\n",
    "\n",
    "print(\"Done writing csv...\")"
   ]
  },
  {
   "cell_type": "code",
   "execution_count": null,
   "id": "826c2552-122c-4b90-8ecf-da24580a6e50",
   "metadata": {},
   "outputs": [],
   "source": []
  }
 ],
 "metadata": {
  "kernelspec": {
   "display_name": "Python 3 (ipykernel)",
   "language": "python",
   "name": "python3"
  },
  "language_info": {
   "codemirror_mode": {
    "name": "ipython",
    "version": 3
   },
   "file_extension": ".py",
   "mimetype": "text/x-python",
   "name": "python",
   "nbconvert_exporter": "python",
   "pygments_lexer": "ipython3",
   "version": "3.10.0"
  }
 },
 "nbformat": 4,
 "nbformat_minor": 5
}
