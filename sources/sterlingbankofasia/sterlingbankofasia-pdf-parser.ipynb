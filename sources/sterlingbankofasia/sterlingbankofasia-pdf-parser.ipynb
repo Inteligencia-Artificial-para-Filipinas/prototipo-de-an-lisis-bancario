{
 "cells": [
  {
   "cell_type": "code",
   "execution_count": 1,
   "id": "4f286d21-5701-4275-9814-590be2151ffd",
   "metadata": {},
   "outputs": [
    {
     "name": "stdout",
     "output_type": "stream",
     "text": [
      "Done writing csv...\n"
     ]
    }
   ],
   "source": [
    "import tabula\n",
    "\n",
    "tabula.convert_into(\"sterlingbankofasia.pdf\", \"sterlingbankofasia.csv\", output_format=\"csv\", pages='1-7')\n",
    "\n",
    "print(\"Done writing csv...\")"
   ]
  },
  {
   "cell_type": "code",
   "execution_count": null,
   "id": "5b2dbe65-25bc-4a29-af53-56ada7e7423c",
   "metadata": {},
   "outputs": [],
   "source": []
  }
 ],
 "metadata": {
  "kernelspec": {
   "display_name": "Python 3 (ipykernel)",
   "language": "python",
   "name": "python3"
  },
  "language_info": {
   "codemirror_mode": {
    "name": "ipython",
    "version": 3
   },
   "file_extension": ".py",
   "mimetype": "text/x-python",
   "name": "python",
   "nbconvert_exporter": "python",
   "pygments_lexer": "ipython3",
   "version": "3.10.0"
  }
 },
 "nbformat": 4,
 "nbformat_minor": 5
}
