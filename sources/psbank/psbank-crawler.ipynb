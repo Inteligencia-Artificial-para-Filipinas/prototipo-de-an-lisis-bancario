{
 "cells": [
  {
   "cell_type": "code",
   "execution_count": 21,
   "id": "dd01d962-d542-4609-b289-f350f5f831a5",
   "metadata": {},
   "outputs": [
    {
     "name": "stdout",
     "output_type": "stream",
     "text": [
      "Requesting data...\n",
      "Done writing csv...\n"
     ]
    }
   ],
   "source": [
    "import requests\n",
    "from bs4 import BeautifulSoup\n",
    "import pandas as pd\n",
    "\n",
    "# Fetch the webpage\n",
    "'''\n",
    "API returns compounded data based on page number\n",
    "Example:\n",
    "page 1 = page 1 data\n",
    "page 2 = page 1 + page 2 data\n",
    "page 3 = page 1 + page 2 + page 3 data\n",
    "'''\n",
    "base_url = 'https://www.psbank.com.ph/EnhancedCorpsiteAPI/Api/Reference/GetCarsForSale?page=10000000'\n",
    "\n",
    "# mock api for testing\n",
    "# base_url = 'http://localhost:3000/response'\n",
    "\n",
    "# Set user agent header to mimic Chrome\n",
    "headers = {\n",
    "    'User-Agent': 'Mozilla/5.0 (Windows NT 10.0; Win64; x64) AppleWebKit/537.36 (KHTML, like Gecko) Chrome/97.0.4692.71 Safari/537.36'\n",
    "}\n",
    "\n",
    "# Request\n",
    "print(\"Requesting data...\")\n",
    "response = requests.get(base_url, headers=headers)\n",
    "\n",
    "json_response = response.json()\n",
    "\n",
    "df = pd.DataFrame(json_response.get('data'))\n",
    "\n",
    "df.to_csv('psbank-cars.csv')\n",
    "\n",
    "print(\"Done writing csv...\")\n"
   ]
  },
  {
   "cell_type": "code",
   "execution_count": null,
   "id": "98133a62-5371-4fcf-8bb0-3352b7ae4626",
   "metadata": {},
   "outputs": [],
   "source": []
  }
 ],
 "metadata": {
  "kernelspec": {
   "display_name": "Python 3 (ipykernel)",
   "language": "python",
   "name": "python3"
  },
  "language_info": {
   "codemirror_mode": {
    "name": "ipython",
    "version": 3
   },
   "file_extension": ".py",
   "mimetype": "text/x-python",
   "name": "python",
   "nbconvert_exporter": "python",
   "pygments_lexer": "ipython3",
   "version": "3.10.0"
  }
 },
 "nbformat": 4,
 "nbformat_minor": 5
}
