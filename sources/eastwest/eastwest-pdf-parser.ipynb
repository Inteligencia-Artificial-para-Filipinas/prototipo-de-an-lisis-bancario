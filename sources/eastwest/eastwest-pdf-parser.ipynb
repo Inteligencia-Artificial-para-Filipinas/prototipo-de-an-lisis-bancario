{
 "cells": [
  {
   "cell_type": "code",
   "execution_count": 3,
   "id": "168c09da-eb96-42cc-adbf-4e8c422a6abd",
   "metadata": {},
   "outputs": [
    {
     "name": "stdout",
     "output_type": "stream",
     "text": [
      "Done writing csv...\n"
     ]
    }
   ],
   "source": [
    "import tabula\n",
    "\n",
    "tabula.convert_into(\"eastwest.pdf\", \"eastwest.csv\", output_format=\"csv\", pages='5-49')\n",
    "\n",
    "print(\"Done writing csv...\")"
   ]
  },
  {
   "cell_type": "code",
   "execution_count": null,
   "id": "73fc22b6-930c-4103-8b44-4619c845fdc6",
   "metadata": {},
   "outputs": [],
   "source": []
  }
 ],
 "metadata": {
  "kernelspec": {
   "display_name": "Python 3 (ipykernel)",
   "language": "python",
   "name": "python3"
  },
  "language_info": {
   "codemirror_mode": {
    "name": "ipython",
    "version": 3
   },
   "file_extension": ".py",
   "mimetype": "text/x-python",
   "name": "python",
   "nbconvert_exporter": "python",
   "pygments_lexer": "ipython3",
   "version": "3.10.0"
  }
 },
 "nbformat": 4,
 "nbformat_minor": 5
}
