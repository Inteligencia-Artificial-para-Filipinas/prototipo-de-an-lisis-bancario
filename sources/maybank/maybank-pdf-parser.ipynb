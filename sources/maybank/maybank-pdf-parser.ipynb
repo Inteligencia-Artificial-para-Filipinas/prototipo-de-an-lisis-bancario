{
 "cells": [
  {
   "cell_type": "code",
   "execution_count": 9,
   "id": "2f03f2be-0675-4ed8-885b-60d872ba164a",
   "metadata": {},
   "outputs": [
    {
     "name": "stderr",
     "output_type": "stream",
     "text": [
      "/Users/MarkErnestMatute/Documents/data-science/philippines-pre-owned-cars-ml-ai-project/venv/lib/python3.10/site-packages/tabula/io.py:1054: FutureWarning: errors='ignore' is deprecated and will raise in a future version. Use to_numeric without passing `errors` and catch exceptions explicitly instead\n",
      "  df[c] = pd.to_numeric(df[c], errors=\"ignore\")\n",
      "/Users/MarkErnestMatute/Documents/data-science/philippines-pre-owned-cars-ml-ai-project/venv/lib/python3.10/site-packages/tabula/io.py:1054: FutureWarning: errors='ignore' is deprecated and will raise in a future version. Use to_numeric without passing `errors` and catch exceptions explicitly instead\n",
      "  df[c] = pd.to_numeric(df[c], errors=\"ignore\")\n",
      "/Users/MarkErnestMatute/Documents/data-science/philippines-pre-owned-cars-ml-ai-project/venv/lib/python3.10/site-packages/tabula/io.py:1054: FutureWarning: errors='ignore' is deprecated and will raise in a future version. Use to_numeric without passing `errors` and catch exceptions explicitly instead\n",
      "  df[c] = pd.to_numeric(df[c], errors=\"ignore\")\n",
      "Got stderr: Apr 17, 2024 3:07:45 PM org.apache.pdfbox.pdmodel.font.PDSimpleFont toUnicode\n",
      "WARNING: No Unicode mapping for .notdef (10) in font ABCDEE+Trebuchet MS,Bold\n",
      "Apr 17, 2024 3:07:46 PM org.apache.pdfbox.rendering.TTFGlyph2D getPathForGID\n",
      "WARNING: No glyph for 10 in font ABCDEE+Trebuchet MS,Bold\n",
      "\n",
      "/Users/MarkErnestMatute/Documents/data-science/philippines-pre-owned-cars-ml-ai-project/venv/lib/python3.10/site-packages/tabula/io.py:1054: FutureWarning: errors='ignore' is deprecated and will raise in a future version. Use to_numeric without passing `errors` and catch exceptions explicitly instead\n",
      "  df[c] = pd.to_numeric(df[c], errors=\"ignore\")\n",
      "Got stderr: Apr 17, 2024 3:07:48 PM org.apache.pdfbox.pdmodel.font.PDSimpleFont toUnicode\n",
      "WARNING: No Unicode mapping for .notdef (10) in font ABCDEE+Trebuchet MS,Bold\n",
      "Apr 17, 2024 3:07:49 PM org.apache.pdfbox.rendering.TTFGlyph2D getPathForGID\n",
      "WARNING: No glyph for 10 in font ABCDEE+Trebuchet MS,Bold\n",
      "\n"
     ]
    },
    {
     "name": "stdout",
     "output_type": "stream",
     "text": [
      "Combined data saved to maybank.csv\n"
     ]
    },
    {
     "name": "stderr",
     "output_type": "stream",
     "text": [
      "/Users/MarkErnestMatute/Documents/data-science/philippines-pre-owned-cars-ml-ai-project/venv/lib/python3.10/site-packages/tabula/io.py:1054: FutureWarning: errors='ignore' is deprecated and will raise in a future version. Use to_numeric without passing `errors` and catch exceptions explicitly instead\n",
      "  df[c] = pd.to_numeric(df[c], errors=\"ignore\")\n"
     ]
    }
   ],
   "source": [
    "import os\n",
    "import tabula\n",
    "import pandas as pd\n",
    "\n",
    "# Path to the directory containing PDF files\n",
    "pdf_directory = 'pdf'\n",
    "\n",
    "# Get a list of PDF files in the directory\n",
    "pdf_files = [file for file in os.listdir(pdf_directory) if file.endswith('.pdf')]\n",
    "\n",
    "# Iterate through each PDF file\n",
    "for file_name in pdf_files:\n",
    "    # Construct the full path to the PDF file\n",
    "    pdf_path = os.path.join(pdf_directory, file_name)\n",
    "    \n",
    "    # Use tabula to read the PDF\n",
    "    dfs = tabula.read_pdf(pdf_path, pages='all')\n",
    "    \n",
    "    # Iterate through each DataFrame extracted from the PDF\n",
    "    for idx, df in enumerate(dfs):\n",
    "        # Save each DataFrame to a CSV file\n",
    "        csv_filename = f\"{file_name}_page_{idx + 1}.csv\"  # Append page number to file name\n",
    "        csv_path = os.path.join(pdf_directory, csv_filename)\n",
    "        df.to_csv(csv_path, index=False)\n",
    "        \n",
    "        print(f\"Data extracted from {file_name}, page {idx + 1}, saved as {csv_filename}\")\n"
   ]
  },
  {
   "cell_type": "code",
   "execution_count": null,
   "id": "5a1ac028-612b-4a81-9dd7-a96be4e152d9",
   "metadata": {},
   "outputs": [],
   "source": []
  }
 ],
 "metadata": {
  "kernelspec": {
   "display_name": "Python 3 (ipykernel)",
   "language": "python",
   "name": "python3"
  },
  "language_info": {
   "codemirror_mode": {
    "name": "ipython",
    "version": 3
   },
   "file_extension": ".py",
   "mimetype": "text/x-python",
   "name": "python",
   "nbconvert_exporter": "python",
   "pygments_lexer": "ipython3",
   "version": "3.10.0"
  }
 },
 "nbformat": 4,
 "nbformat_minor": 5
}
