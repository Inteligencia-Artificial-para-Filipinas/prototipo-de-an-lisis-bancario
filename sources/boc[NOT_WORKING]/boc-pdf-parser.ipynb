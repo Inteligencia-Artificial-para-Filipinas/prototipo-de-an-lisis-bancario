{
 "cells": [
  {
   "cell_type": "code",
   "execution_count": null,
   "id": "8f9f1785-b106-472a-a9a5-74dce019ff9f",
   "metadata": {},
   "outputs": [],
   "source": [
    "import tabula\n",
    "\n",
    "tabula.convert_into(\"boc.pdf\", \"boc.csv\", output_format=\"csv\", pages='2-14')\n",
    "\n",
    "print(\"Done writing csv...\")"
   ]
  }
 ],
 "metadata": {
  "kernelspec": {
   "display_name": "Python 3 (ipykernel)",
   "language": "python",
   "name": "python3"
  },
  "language_info": {
   "codemirror_mode": {
    "name": "ipython",
    "version": 3
   },
   "file_extension": ".py",
   "mimetype": "text/x-python",
   "name": "python",
   "nbconvert_exporter": "python",
   "pygments_lexer": "ipython3",
   "version": "3.10.0"
  }
 },
 "nbformat": 4,
 "nbformat_minor": 5
}
